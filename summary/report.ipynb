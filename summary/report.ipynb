{
 "cells": [
  {
   "cell_type": "markdown",
   "metadata": {},
   "source": [
    "# Introduction"
   ]
  },
  {
   "cell_type": "markdown",
   "metadata": {},
   "source": [
    "Based on the reviews and restaurant information from yelp, thus we aim to provide useful and analytic insights to business owners. Here we are most interested in 4434 chinese restaurants and want to help them to make data-driven decisions to improve their rating on yelp. Also, we build a Rshiny Application to give a more vivid explanation."
   ]
  },
  {
   "cell_type": "markdown",
   "metadata": {},
   "source": [
    "# Step1: Data Selection and Cleaning"
   ]
  },
  {
   "cell_type": "markdown",
   "metadata": {},
   "source": [
    "* There are 192,609 businesses and 6,685,900 reviews.\n",
    "* As a start, we merged three json files based on \"business_id\". Then, Extract the data which has \"Chinese\", \"Restaurant\", \"Food\" in their names. It turned out it has 4434 chineses restaurants.\n",
    "* For the reviews, we split them into words, remove punctuation, convert words to lower cases and remove stop words(except \"nor\", \"not\", \"no\")\n",
    "* For business category, firstly we deleted those restaurants wiht no category. Then, we extract every category and deleted those with 50% percent missing values."
   ]
  },
  {
   "cell_type": "markdown",
   "metadata": {},
   "source": [
    "# Contribution"
   ]
  },
  {
   "cell_type": "markdown",
   "metadata": {},
   "source": [
    "* Yun Mo: Reviews Cleaning, Reviews Analysis, Choosing words, phrases among reviews\n",
    "* He Wang: Data Preprocessing, Tree Model Construction, All Restaurant Data Description\n",
    "* Zifeng Wang: Reviews Cleaning, Reviews Analysis, Generate Advice for business onwer\n",
    "* Qintao Ying: Rshiny, Data Cleaning, Chinese Restaurant Data Description"
   ]
  },
  {
   "cell_type": "markdown",
   "metadata": {},
   "source": [
    "# Reference"
   ]
  },
  {
   "cell_type": "markdown",
   "metadata": {},
   "source": [
    "[1] "
   ]
  }
 ],
 "metadata": {
  "kernelspec": {
   "display_name": "Python 3",
   "language": "python",
   "name": "python3"
  },
  "language_info": {
   "codemirror_mode": {
    "name": "ipython",
    "version": 3
   },
   "file_extension": ".py",
   "mimetype": "text/x-python",
   "name": "python",
   "nbconvert_exporter": "python",
   "pygments_lexer": "ipython3",
   "version": "3.6.9"
  }
 },
 "nbformat": 4,
 "nbformat_minor": 2
}

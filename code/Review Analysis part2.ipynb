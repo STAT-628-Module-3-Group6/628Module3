{
 "cells": [
  {
   "cell_type": "markdown",
   "metadata": {},
   "source": [
    "# 1. Data Preprocessing"
   ]
  },
  {
   "cell_type": "code",
   "execution_count": 1,
   "metadata": {},
   "outputs": [],
   "source": [
    "import pandas as pd\n",
    "file = pd.read_csv(\"X_df.csv\", index_col= False)"
   ]
  },
  {
   "cell_type": "code",
   "execution_count": 2,
   "metadata": {},
   "outputs": [
    {
     "data": {
      "text/html": [
       "<div>\n",
       "<style scoped>\n",
       "    .dataframe tbody tr th:only-of-type {\n",
       "        vertical-align: middle;\n",
       "    }\n",
       "\n",
       "    .dataframe tbody tr th {\n",
       "        vertical-align: top;\n",
       "    }\n",
       "\n",
       "    .dataframe thead th {\n",
       "        text-align: right;\n",
       "    }\n",
       "</style>\n",
       "<table border=\"1\" class=\"dataframe\">\n",
       "  <thead>\n",
       "    <tr style=\"text-align: right;\">\n",
       "      <th></th>\n",
       "      <th>Unnamed: 0</th>\n",
       "      <th>wait</th>\n",
       "      <th>service</th>\n",
       "      <th>price</th>\n",
       "      <th>('dim', 'sum')</th>\n",
       "      <th>('fried', 'rice')</th>\n",
       "      <th>('orange', 'chicken')</th>\n",
       "      <th>('chow', 'mein')</th>\n",
       "      <th>('pad', 'thai')</th>\n",
       "      <th>('sour', 'soup')</th>\n",
       "      <th>...</th>\n",
       "      <th>('egg', 'drop', 'soup')</th>\n",
       "      <th>('beef', 'noodle', 'soup')</th>\n",
       "      <th>('kung', 'pao', 'chicken')</th>\n",
       "      <th>('chicken', 'fried', 'rice')</th>\n",
       "      <th>('pork', 'fried', 'rice')</th>\n",
       "      <th>('black', 'bean', 'sauce')</th>\n",
       "      <th>('shrimp', 'fried', 'rice')</th>\n",
       "      <th>('xiao', 'long', 'bao')</th>\n",
       "      <th>('egg', 'foo', 'young')</th>\n",
       "      <th>('dan', 'dan', 'noodles')</th>\n",
       "    </tr>\n",
       "  </thead>\n",
       "  <tbody>\n",
       "    <tr>\n",
       "      <th>0</th>\n",
       "      <td>0</td>\n",
       "      <td>1</td>\n",
       "      <td>1</td>\n",
       "      <td>1</td>\n",
       "      <td>0</td>\n",
       "      <td>0</td>\n",
       "      <td>0</td>\n",
       "      <td>0</td>\n",
       "      <td>0</td>\n",
       "      <td>0</td>\n",
       "      <td>...</td>\n",
       "      <td>0</td>\n",
       "      <td>0</td>\n",
       "      <td>0</td>\n",
       "      <td>0</td>\n",
       "      <td>0</td>\n",
       "      <td>0</td>\n",
       "      <td>0</td>\n",
       "      <td>0</td>\n",
       "      <td>0</td>\n",
       "      <td>0</td>\n",
       "    </tr>\n",
       "    <tr>\n",
       "      <th>1</th>\n",
       "      <td>1</td>\n",
       "      <td>0</td>\n",
       "      <td>0</td>\n",
       "      <td>0</td>\n",
       "      <td>1</td>\n",
       "      <td>0</td>\n",
       "      <td>0</td>\n",
       "      <td>0</td>\n",
       "      <td>0</td>\n",
       "      <td>0</td>\n",
       "      <td>...</td>\n",
       "      <td>0</td>\n",
       "      <td>0</td>\n",
       "      <td>0</td>\n",
       "      <td>0</td>\n",
       "      <td>0</td>\n",
       "      <td>0</td>\n",
       "      <td>0</td>\n",
       "      <td>0</td>\n",
       "      <td>0</td>\n",
       "      <td>0</td>\n",
       "    </tr>\n",
       "    <tr>\n",
       "      <th>2</th>\n",
       "      <td>2</td>\n",
       "      <td>0</td>\n",
       "      <td>1</td>\n",
       "      <td>0</td>\n",
       "      <td>1</td>\n",
       "      <td>0</td>\n",
       "      <td>0</td>\n",
       "      <td>0</td>\n",
       "      <td>0</td>\n",
       "      <td>0</td>\n",
       "      <td>...</td>\n",
       "      <td>0</td>\n",
       "      <td>0</td>\n",
       "      <td>0</td>\n",
       "      <td>0</td>\n",
       "      <td>0</td>\n",
       "      <td>0</td>\n",
       "      <td>0</td>\n",
       "      <td>0</td>\n",
       "      <td>0</td>\n",
       "      <td>0</td>\n",
       "    </tr>\n",
       "    <tr>\n",
       "      <th>3</th>\n",
       "      <td>3</td>\n",
       "      <td>0</td>\n",
       "      <td>1</td>\n",
       "      <td>1</td>\n",
       "      <td>0</td>\n",
       "      <td>1</td>\n",
       "      <td>0</td>\n",
       "      <td>0</td>\n",
       "      <td>0</td>\n",
       "      <td>0</td>\n",
       "      <td>...</td>\n",
       "      <td>0</td>\n",
       "      <td>0</td>\n",
       "      <td>0</td>\n",
       "      <td>1</td>\n",
       "      <td>0</td>\n",
       "      <td>0</td>\n",
       "      <td>0</td>\n",
       "      <td>0</td>\n",
       "      <td>0</td>\n",
       "      <td>0</td>\n",
       "    </tr>\n",
       "    <tr>\n",
       "      <th>4</th>\n",
       "      <td>4</td>\n",
       "      <td>0</td>\n",
       "      <td>1</td>\n",
       "      <td>0</td>\n",
       "      <td>1</td>\n",
       "      <td>0</td>\n",
       "      <td>0</td>\n",
       "      <td>0</td>\n",
       "      <td>0</td>\n",
       "      <td>0</td>\n",
       "      <td>...</td>\n",
       "      <td>0</td>\n",
       "      <td>0</td>\n",
       "      <td>0</td>\n",
       "      <td>0</td>\n",
       "      <td>0</td>\n",
       "      <td>0</td>\n",
       "      <td>0</td>\n",
       "      <td>0</td>\n",
       "      <td>0</td>\n",
       "      <td>0</td>\n",
       "    </tr>\n",
       "  </tbody>\n",
       "</table>\n",
       "<p>5 rows × 38 columns</p>\n",
       "</div>"
      ],
      "text/plain": [
       "   Unnamed: 0  wait  service  price  ('dim', 'sum')  ('fried', 'rice')  \\\n",
       "0           0     1        1      1               0                  0   \n",
       "1           1     0        0      0               1                  0   \n",
       "2           2     0        1      0               1                  0   \n",
       "3           3     0        1      1               0                  1   \n",
       "4           4     0        1      0               1                  0   \n",
       "\n",
       "   ('orange', 'chicken')  ('chow', 'mein')  ('pad', 'thai')  ('sour', 'soup')  \\\n",
       "0                      0                 0                0                 0   \n",
       "1                      0                 0                0                 0   \n",
       "2                      0                 0                0                 0   \n",
       "3                      0                 0                0                 0   \n",
       "4                      0                 0                0                 0   \n",
       "\n",
       "             ...              ('egg', 'drop', 'soup')  \\\n",
       "0            ...                                    0   \n",
       "1            ...                                    0   \n",
       "2            ...                                    0   \n",
       "3            ...                                    0   \n",
       "4            ...                                    0   \n",
       "\n",
       "   ('beef', 'noodle', 'soup')  ('kung', 'pao', 'chicken')  \\\n",
       "0                           0                           0   \n",
       "1                           0                           0   \n",
       "2                           0                           0   \n",
       "3                           0                           0   \n",
       "4                           0                           0   \n",
       "\n",
       "   ('chicken', 'fried', 'rice')  ('pork', 'fried', 'rice')  \\\n",
       "0                             0                          0   \n",
       "1                             0                          0   \n",
       "2                             0                          0   \n",
       "3                             1                          0   \n",
       "4                             0                          0   \n",
       "\n",
       "   ('black', 'bean', 'sauce')  ('shrimp', 'fried', 'rice')  \\\n",
       "0                           0                            0   \n",
       "1                           0                            0   \n",
       "2                           0                            0   \n",
       "3                           0                            0   \n",
       "4                           0                            0   \n",
       "\n",
       "   ('xiao', 'long', 'bao')  ('egg', 'foo', 'young')  ('dan', 'dan', 'noodles')  \n",
       "0                        0                        0                          0  \n",
       "1                        0                        0                          0  \n",
       "2                        0                        0                          0  \n",
       "3                        0                        0                          0  \n",
       "4                        0                        0                          0  \n",
       "\n",
       "[5 rows x 38 columns]"
      ]
     },
     "execution_count": 2,
     "metadata": {},
     "output_type": "execute_result"
    }
   ],
   "source": [
    "file.head()"
   ]
  },
  {
   "cell_type": "code",
   "execution_count": 3,
   "metadata": {},
   "outputs": [],
   "source": [
    "del file[\"Unnamed: 0\"]"
   ]
  },
  {
   "cell_type": "code",
   "execution_count": 4,
   "metadata": {},
   "outputs": [],
   "source": [
    "import numpy as np\n",
    "data = np.array(file)"
   ]
  },
  {
   "cell_type": "code",
   "execution_count": 5,
   "metadata": {},
   "outputs": [],
   "source": [
    "file2 = pd.read_csv(\"./Chinese_review.csv\")"
   ]
  },
  {
   "cell_type": "code",
   "execution_count": 6,
   "metadata": {},
   "outputs": [],
   "source": [
    "#indentify if \"dimsum\" in the review\n",
    "for i in range(0,len(data)):\n",
    "    if \"dimsum\" in file2[\"text_token\"][i]: data[i][3] = 1"
   ]
  },
  {
   "cell_type": "code",
   "execution_count": 7,
   "metadata": {},
   "outputs": [],
   "source": [
    "#show the all zero data\n",
    "index_allzero = []\n",
    "num = 0\n",
    "for i in data:\n",
    "    if not 1 in i:\n",
    "        index_allzero.append(num)\n",
    "    num += 1"
   ]
  },
  {
   "cell_type": "code",
   "execution_count": 8,
   "metadata": {},
   "outputs": [
    {
     "data": {
      "text/plain": [
       "64351"
      ]
     },
     "execution_count": 8,
     "metadata": {},
     "output_type": "execute_result"
    }
   ],
   "source": [
    "len(index_allzero)"
   ]
  },
  {
   "cell_type": "code",
   "execution_count": 9,
   "metadata": {},
   "outputs": [],
   "source": [
    "business_id = file2[\"business_id\"]\n",
    "business_index = list(file2[\"business_index\"])\n",
    "Y = file2[\"stars\"]\n",
    "\n",
    "dataset = []\n",
    "labelset = []\n",
    "\n",
    "for i in range(0,4434):\n",
    "    data_sub = []\n",
    "    label_sub = []\n",
    "    num = 0\n",
    "    for business in business_index:\n",
    "        if business == i:\n",
    "            data_sub.append(data[num])\n",
    "            label_sub.append(Y[num])\n",
    "        num += 1\n",
    "    dataset.append(data_sub)\n",
    "    labelset.append(label_sub)"
   ]
  },
  {
   "cell_type": "code",
   "execution_count": 10,
   "metadata": {},
   "outputs": [],
   "source": [
    "#22-grams phrases\n",
    "phrases_2 = [('dim','sum'), ('fried','rice'), ('orange', 'chicken'), ('chow', 'mein'), ('pad', 'thai'), ('sour', 'soup'), ('hot', 'pot'), ('spring', 'rolls'), ('lo', 'mein'), ('bbq', 'pork'), ('mongolian', 'beef'), ('egg', 'roll'), ('wonton', 'soup'), ('soy', 'sauce'), ('ice', 'cream'), ('pork', 'belly'), ('milk', 'tea'), ('fried', 'chicken'),  ('sour', 'chicken'), ('white', 'rice'), ('sesame', 'chicken'), ('chicken', 'wings'), ('peking', 'duck'), ('bubble', 'tea')]"
   ]
  },
  {
   "cell_type": "code",
   "execution_count": 11,
   "metadata": {},
   "outputs": [],
   "source": [
    "#10 -grams phrases\n",
    "phrases_3 = [('egg', 'drop', 'soup'), ('beef', 'noodle', 'soup'), ('kung', 'pao', 'chicken'), ('chicken', 'fried', 'rice'), ('pork', 'fried', 'rice'), ('black', 'bean', 'sauce'), ('shrimp', 'fried', 'rice'), ('xiao', 'long', 'bao'), ('egg', 'foo', 'young'), ('dan', 'dan', 'noodles')]"
   ]
  },
  {
   "cell_type": "code",
   "execution_count": 12,
   "metadata": {},
   "outputs": [
    {
     "name": "stdout",
     "output_type": "stream",
     "text": [
      "['wait', 'service', 'price', ('dim', 'sum'), ('fried', 'rice'), ('orange', 'chicken'), ('chow', 'mein'), ('pad', 'thai'), ('sour', 'soup'), ('hot', 'pot'), ('spring', 'rolls'), ('lo', 'mein'), ('bbq', 'pork'), ('mongolian', 'beef'), ('egg', 'roll'), ('wonton', 'soup'), ('soy', 'sauce'), ('ice', 'cream'), ('pork', 'belly'), ('milk', 'tea'), ('fried', 'chicken'), ('sour', 'chicken'), ('white', 'rice'), ('sesame', 'chicken'), ('chicken', 'wings'), ('peking', 'duck'), ('bubble', 'tea'), ('egg', 'drop', 'soup'), ('beef', 'noodle', 'soup'), ('kung', 'pao', 'chicken'), ('chicken', 'fried', 'rice'), ('pork', 'fried', 'rice'), ('black', 'bean', 'sauce'), ('shrimp', 'fried', 'rice'), ('xiao', 'long', 'bao'), ('egg', 'foo', 'young'), ('dan', 'dan', 'noodles')]\n"
     ]
    }
   ],
   "source": [
    "name = [\"wait\", \"service\", \"price\"] + phrases_2 + phrases_3\n",
    "print(name)"
   ]
  },
  {
   "cell_type": "markdown",
   "metadata": {},
   "source": [
    "# 2. Fit lasso regression in different business"
   ]
  },
  {
   "cell_type": "code",
   "execution_count": 51,
   "metadata": {},
   "outputs": [],
   "source": [
    "# give the result of each business\n",
    "from sklearn.linear_model import LinearRegression\n",
    "from sklearn.linear_model import LassoCV\n",
    "\n",
    "name_high = []\n",
    "name_low = []\n",
    "wait = []\n",
    "service = []\n",
    "price = []\n",
    "rate_fix = []\n",
    "rate_origin = []\n",
    "labelset_fix = []\n",
    "\n",
    "for x,y in zip(dataset, labelset):\n",
    "    \n",
    "    X = np.array(x)\n",
    "    Y = np.array(y)\n",
    "    if len(Y) > 37:\n",
    "        clf = LinearRegression().fit(X,Y)\n",
    "    \n",
    "    elif len(Y)> 5:    \n",
    "        \n",
    "        clf = LassoCV(cv = 5, n_jobs= -1).fit(X,Y)\n",
    "    else:\n",
    "        clf = LassoCV(cv = len(Y), n_jobs= -1).fit(X,Y)\n",
    "    coef = clf.coef_\n",
    "    \n",
    "    index_max = clf.coef_[3:].argmax()\n",
    "    name_max = name[index_max+3]\n",
    "    if clf.coef_[index_max+3] == 0:\n",
    "        name_max = \"NA\"\n",
    "    name_high.append(name_max)\n",
    "    \n",
    "    index_min = clf.coef_[3:].argmin()\n",
    "    name_min = name[index_min+3]\n",
    "    if clf.coef_[index_min+3] == 0:\n",
    "        name_min = \"NA\"\n",
    "    name_low.append(name_min)\n",
    "    \n",
    "    coef[index_min + 3] = 0\n",
    "    \n",
    "    if clf.coef_[0] < 0:\n",
    "        wait.append(1)\n",
    "        coef[0] = 0 \n",
    "        # 1 means service needs to be improved\n",
    "    else:\n",
    "        wait.append(0)\n",
    "        \n",
    "    if clf.coef_[1] < 0:\n",
    "        service.append(1)\n",
    "        coef[1] = 0\n",
    "        # 1 means service needs to be improved\n",
    "    else:\n",
    "        service.append(0)\n",
    "        \n",
    "    if clf.coef_[2] < 0:\n",
    "        price.append(1)\n",
    "        coef[2] = 0\n",
    "        # 1 means service needs to be improved\n",
    "    else:\n",
    "        price.append(0)\n",
    "    \n",
    "    score = 0 \n",
    "    label = []\n",
    "    for i in x:\n",
    "        result =  np.dot(coef, i) + clf.intercept_\n",
    "        label.append(result)\n",
    "        score += result\n",
    "    \n",
    "    labelset_fix.append(label)\n",
    "    rate_fix.append(score/len(x))\n",
    "    rate_origin.append(sum(y)/len(y))"
   ]
  },
  {
   "cell_type": "code",
   "execution_count": 52,
   "metadata": {},
   "outputs": [],
   "source": [
    "from collections import OrderedDict\n",
    "business_id = list(OrderedDict.fromkeys(business_id))"
   ]
  },
  {
   "cell_type": "code",
   "execution_count": 53,
   "metadata": {},
   "outputs": [],
   "source": [
    "data = {\"business_id\":business_id, \"high_food\": name_high, \"low_food\" : name_low, \"wait\":wait, \"service\" : service, \"price\": price, \"rate_origin\": rate_origin, \"rate_fix\": rate_fix }\n",
    "df = pd.DataFrame(data)"
   ]
  },
  {
   "cell_type": "code",
   "execution_count": 67,
   "metadata": {},
   "outputs": [
    {
     "data": {
      "text/html": [
       "<div>\n",
       "<style scoped>\n",
       "    .dataframe tbody tr th:only-of-type {\n",
       "        vertical-align: middle;\n",
       "    }\n",
       "\n",
       "    .dataframe tbody tr th {\n",
       "        vertical-align: top;\n",
       "    }\n",
       "\n",
       "    .dataframe thead th {\n",
       "        text-align: right;\n",
       "    }\n",
       "</style>\n",
       "<table border=\"1\" class=\"dataframe\">\n",
       "  <thead>\n",
       "    <tr style=\"text-align: right;\">\n",
       "      <th></th>\n",
       "      <th>business_id</th>\n",
       "      <th>high_food</th>\n",
       "      <th>low_food</th>\n",
       "      <th>wait</th>\n",
       "      <th>service</th>\n",
       "      <th>price</th>\n",
       "      <th>rate_origin</th>\n",
       "      <th>rate_fix</th>\n",
       "    </tr>\n",
       "  </thead>\n",
       "  <tbody>\n",
       "    <tr>\n",
       "      <th>0</th>\n",
       "      <td>QXAEGFB4oINsVuTFxEYKFQ</td>\n",
       "      <td>(mongolian, beef)</td>\n",
       "      <td>(orange, chicken)</td>\n",
       "      <td>1</td>\n",
       "      <td>1</td>\n",
       "      <td>1</td>\n",
       "      <td>2.738806</td>\n",
       "      <td>3.061543</td>\n",
       "    </tr>\n",
       "    <tr>\n",
       "      <th>1</th>\n",
       "      <td>e_EMySqP0uwlVZfd8mRaaQ</td>\n",
       "      <td>NA</td>\n",
       "      <td>NA</td>\n",
       "      <td>0</td>\n",
       "      <td>0</td>\n",
       "      <td>0</td>\n",
       "      <td>1.600000</td>\n",
       "      <td>1.600000</td>\n",
       "    </tr>\n",
       "    <tr>\n",
       "      <th>2</th>\n",
       "      <td>44YFU284Z3KDEy25QyVoUw</td>\n",
       "      <td>(pad, thai)</td>\n",
       "      <td>(dim, sum)</td>\n",
       "      <td>1</td>\n",
       "      <td>1</td>\n",
       "      <td>1</td>\n",
       "      <td>3.400000</td>\n",
       "      <td>3.697675</td>\n",
       "    </tr>\n",
       "    <tr>\n",
       "      <th>3</th>\n",
       "      <td>X8mtoSxY8whtmbDlj0D3Aw</td>\n",
       "      <td>NA</td>\n",
       "      <td>NA</td>\n",
       "      <td>0</td>\n",
       "      <td>0</td>\n",
       "      <td>0</td>\n",
       "      <td>1.750000</td>\n",
       "      <td>1.750000</td>\n",
       "    </tr>\n",
       "    <tr>\n",
       "      <th>4</th>\n",
       "      <td>MhnihE0alud0ereVInSt8Q</td>\n",
       "      <td>(spring, rolls)</td>\n",
       "      <td>(sour, soup)</td>\n",
       "      <td>1</td>\n",
       "      <td>1</td>\n",
       "      <td>1</td>\n",
       "      <td>3.005128</td>\n",
       "      <td>3.199584</td>\n",
       "    </tr>\n",
       "  </tbody>\n",
       "</table>\n",
       "</div>"
      ],
      "text/plain": [
       "              business_id          high_food           low_food  wait  \\\n",
       "0  QXAEGFB4oINsVuTFxEYKFQ  (mongolian, beef)  (orange, chicken)     1   \n",
       "1  e_EMySqP0uwlVZfd8mRaaQ                 NA                 NA     0   \n",
       "2  44YFU284Z3KDEy25QyVoUw        (pad, thai)         (dim, sum)     1   \n",
       "3  X8mtoSxY8whtmbDlj0D3Aw                 NA                 NA     0   \n",
       "4  MhnihE0alud0ereVInSt8Q    (spring, rolls)       (sour, soup)     1   \n",
       "\n",
       "   service  price  rate_origin  rate_fix  \n",
       "0        1      1     2.738806  3.061543  \n",
       "1        0      0     1.600000  1.600000  \n",
       "2        1      1     3.400000  3.697675  \n",
       "3        0      0     1.750000  1.750000  \n",
       "4        1      1     3.005128  3.199584  "
      ]
     },
     "execution_count": 67,
     "metadata": {},
     "output_type": "execute_result"
    }
   ],
   "source": [
    "df.head()"
   ]
  },
  {
   "cell_type": "code",
   "execution_count": 26,
   "metadata": {},
   "outputs": [],
   "source": [
    "df.to_csv(\"Output.csv\", index= False, encoding=\"utf-8\")"
   ]
  },
  {
   "cell_type": "code",
   "execution_count": 56,
   "metadata": {},
   "outputs": [],
   "source": [
    "#give a example of the first restaurant Emerald Chinese\n",
    "from sklearn.linear_model import LassoCV\n",
    "m = LinearRegression().fit(dataset[0],labelset[0])"
   ]
  },
  {
   "cell_type": "code",
   "execution_count": 57,
   "metadata": {},
   "outputs": [
    {
     "data": {
      "text/plain": [
       "array([-6.82976391e-02, -2.21587196e-01, -4.95112815e-01,  7.57657378e-01,\n",
       "       -4.15282427e-01, -7.35753983e+14,  1.95901739e-01, -3.43352891e+14,\n",
       "        8.93796966e-01, -6.61846274e+13,  7.87243769e-01, -1.31592760e+14,\n",
       "        1.23248899e+00,  3.75080739e+13, -4.96540652e+13, -6.49113502e-01,\n",
       "       -7.25738065e+12,  1.12668940e+13,  1.52989409e+00,  1.97056980e+06,\n",
       "        0.00000000e+00,  2.29880706e+00,  8.88992411e-01,  0.00000000e+00,\n",
       "       -1.18008321e-01,  2.08464341e+00,  9.33203861e-01,  0.00000000e+00,\n",
       "        0.00000000e+00,  5.24209378e-01, -3.24427978e-01,  0.00000000e+00,\n",
       "        1.68007876e+00,  0.00000000e+00, -1.63460795e+00,  0.00000000e+00,\n",
       "        0.00000000e+00])"
      ]
     },
     "execution_count": 57,
     "metadata": {},
     "output_type": "execute_result"
    }
   ],
   "source": [
    "m.coef_"
   ]
  },
  {
   "cell_type": "code",
   "execution_count": 58,
   "metadata": {},
   "outputs": [
    {
     "data": {
      "text/plain": [
       "('orange', 'chicken')"
      ]
     },
     "execution_count": 58,
     "metadata": {},
     "output_type": "execute_result"
    }
   ],
   "source": [
    "name[np.argmin(m.coef_)]"
   ]
  },
  {
   "cell_type": "code",
   "execution_count": 59,
   "metadata": {},
   "outputs": [],
   "source": [
    "def Count_origin(label):\n",
    "    score = []\n",
    "    score.append(label.count(1))\n",
    "    score.append(label.count(2))\n",
    "    score.append(label.count(3))\n",
    "    score.append(label.count(4))\n",
    "    score.append(label.count(5))\n",
    "    return score"
   ]
  },
  {
   "cell_type": "code",
   "execution_count": 60,
   "metadata": {},
   "outputs": [],
   "source": [
    "list_origin = [Count_origin(label) for label in labelset]"
   ]
  },
  {
   "cell_type": "code",
   "execution_count": 61,
   "metadata": {},
   "outputs": [],
   "source": [
    "df_origin = pd.DataFrame(list_origin, columns=[1,2,3,4,5],index=business_id)"
   ]
  },
  {
   "cell_type": "code",
   "execution_count": 63,
   "metadata": {},
   "outputs": [
    {
     "data": {
      "text/html": [
       "<div>\n",
       "<style scoped>\n",
       "    .dataframe tbody tr th:only-of-type {\n",
       "        vertical-align: middle;\n",
       "    }\n",
       "\n",
       "    .dataframe tbody tr th {\n",
       "        vertical-align: top;\n",
       "    }\n",
       "\n",
       "    .dataframe thead th {\n",
       "        text-align: right;\n",
       "    }\n",
       "</style>\n",
       "<table border=\"1\" class=\"dataframe\">\n",
       "  <thead>\n",
       "    <tr style=\"text-align: right;\">\n",
       "      <th></th>\n",
       "      <th>1</th>\n",
       "      <th>2</th>\n",
       "      <th>3</th>\n",
       "      <th>4</th>\n",
       "      <th>5</th>\n",
       "    </tr>\n",
       "  </thead>\n",
       "  <tbody>\n",
       "    <tr>\n",
       "      <th>QXAEGFB4oINsVuTFxEYKFQ</th>\n",
       "      <td>34</td>\n",
       "      <td>22</td>\n",
       "      <td>33</td>\n",
       "      <td>35</td>\n",
       "      <td>10</td>\n",
       "    </tr>\n",
       "    <tr>\n",
       "      <th>e_EMySqP0uwlVZfd8mRaaQ</th>\n",
       "      <td>4</td>\n",
       "      <td>0</td>\n",
       "      <td>0</td>\n",
       "      <td>1</td>\n",
       "      <td>0</td>\n",
       "    </tr>\n",
       "    <tr>\n",
       "      <th>44YFU284Z3KDEy25QyVoUw</th>\n",
       "      <td>56</td>\n",
       "      <td>25</td>\n",
       "      <td>36</td>\n",
       "      <td>85</td>\n",
       "      <td>83</td>\n",
       "    </tr>\n",
       "    <tr>\n",
       "      <th>X8mtoSxY8whtmbDlj0D3Aw</th>\n",
       "      <td>2</td>\n",
       "      <td>1</td>\n",
       "      <td>1</td>\n",
       "      <td>0</td>\n",
       "      <td>0</td>\n",
       "    </tr>\n",
       "    <tr>\n",
       "      <th>MhnihE0alud0ereVInSt8Q</th>\n",
       "      <td>59</td>\n",
       "      <td>20</td>\n",
       "      <td>20</td>\n",
       "      <td>53</td>\n",
       "      <td>43</td>\n",
       "    </tr>\n",
       "  </tbody>\n",
       "</table>\n",
       "</div>"
      ],
      "text/plain": [
       "                         1   2   3   4   5\n",
       "QXAEGFB4oINsVuTFxEYKFQ  34  22  33  35  10\n",
       "e_EMySqP0uwlVZfd8mRaaQ   4   0   0   1   0\n",
       "44YFU284Z3KDEy25QyVoUw  56  25  36  85  83\n",
       "X8mtoSxY8whtmbDlj0D3Aw   2   1   1   0   0\n",
       "MhnihE0alud0ereVInSt8Q  59  20  20  53  43"
      ]
     },
     "execution_count": 63,
     "metadata": {},
     "output_type": "execute_result"
    }
   ],
   "source": [
    "df_origin.head()"
   ]
  },
  {
   "cell_type": "code",
   "execution_count": 64,
   "metadata": {},
   "outputs": [],
   "source": [
    "labelset_fix_2 = []\n",
    "for label in labelset_fix:\n",
    "    score = []\n",
    "    for i in label:\n",
    "        score.append(round(i,0))\n",
    "    labelset_fix_2.append(score)"
   ]
  },
  {
   "cell_type": "code",
   "execution_count": 65,
   "metadata": {},
   "outputs": [],
   "source": [
    "list_fix = [Count_origin(label) for label in labelset_fix_2]\n",
    "df_fix = pd.DataFrame(list_fix, columns=[1,2,3,4,5],index=business_id)"
   ]
  },
  {
   "cell_type": "code",
   "execution_count": 66,
   "metadata": {},
   "outputs": [
    {
     "data": {
      "text/html": [
       "<div>\n",
       "<style scoped>\n",
       "    .dataframe tbody tr th:only-of-type {\n",
       "        vertical-align: middle;\n",
       "    }\n",
       "\n",
       "    .dataframe tbody tr th {\n",
       "        vertical-align: top;\n",
       "    }\n",
       "\n",
       "    .dataframe thead th {\n",
       "        text-align: right;\n",
       "    }\n",
       "</style>\n",
       "<table border=\"1\" class=\"dataframe\">\n",
       "  <thead>\n",
       "    <tr style=\"text-align: right;\">\n",
       "      <th></th>\n",
       "      <th>1</th>\n",
       "      <th>2</th>\n",
       "      <th>3</th>\n",
       "      <th>4</th>\n",
       "      <th>5</th>\n",
       "    </tr>\n",
       "  </thead>\n",
       "  <tbody>\n",
       "    <tr>\n",
       "      <th>QXAEGFB4oINsVuTFxEYKFQ</th>\n",
       "      <td>0</td>\n",
       "      <td>43</td>\n",
       "      <td>80</td>\n",
       "      <td>7</td>\n",
       "      <td>4</td>\n",
       "    </tr>\n",
       "    <tr>\n",
       "      <th>e_EMySqP0uwlVZfd8mRaaQ</th>\n",
       "      <td>0</td>\n",
       "      <td>5</td>\n",
       "      <td>0</td>\n",
       "      <td>0</td>\n",
       "      <td>0</td>\n",
       "    </tr>\n",
       "    <tr>\n",
       "      <th>44YFU284Z3KDEy25QyVoUw</th>\n",
       "      <td>0</td>\n",
       "      <td>4</td>\n",
       "      <td>180</td>\n",
       "      <td>69</td>\n",
       "      <td>29</td>\n",
       "    </tr>\n",
       "    <tr>\n",
       "      <th>X8mtoSxY8whtmbDlj0D3Aw</th>\n",
       "      <td>0</td>\n",
       "      <td>4</td>\n",
       "      <td>0</td>\n",
       "      <td>0</td>\n",
       "      <td>0</td>\n",
       "    </tr>\n",
       "    <tr>\n",
       "      <th>MhnihE0alud0ereVInSt8Q</th>\n",
       "      <td>1</td>\n",
       "      <td>8</td>\n",
       "      <td>148</td>\n",
       "      <td>30</td>\n",
       "      <td>7</td>\n",
       "    </tr>\n",
       "  </tbody>\n",
       "</table>\n",
       "</div>"
      ],
      "text/plain": [
       "                        1   2    3   4   5\n",
       "QXAEGFB4oINsVuTFxEYKFQ  0  43   80   7   4\n",
       "e_EMySqP0uwlVZfd8mRaaQ  0   5    0   0   0\n",
       "44YFU284Z3KDEy25QyVoUw  0   4  180  69  29\n",
       "X8mtoSxY8whtmbDlj0D3Aw  0   4    0   0   0\n",
       "MhnihE0alud0ereVInSt8Q  1   8  148  30   7"
      ]
     },
     "execution_count": 66,
     "metadata": {},
     "output_type": "execute_result"
    }
   ],
   "source": [
    "df_fix.head()"
   ]
  },
  {
   "cell_type": "code",
   "execution_count": null,
   "metadata": {},
   "outputs": [],
   "source": []
  }
 ],
 "metadata": {
  "kernelspec": {
   "display_name": "Python 3",
   "language": "python",
   "name": "python3"
  },
  "language_info": {
   "codemirror_mode": {
    "name": "ipython",
    "version": 3
   },
   "file_extension": ".py",
   "mimetype": "text/x-python",
   "name": "python",
   "nbconvert_exporter": "python",
   "pygments_lexer": "ipython3",
   "version": "3.7.1"
  }
 },
 "nbformat": 4,
 "nbformat_minor": 2
}

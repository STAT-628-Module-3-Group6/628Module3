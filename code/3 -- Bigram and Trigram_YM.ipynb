{
 "cells": [
  {
   "cell_type": "markdown",
   "metadata": {},
   "source": [
    "**Bigram and Trigram**\n",
    "\n",
    "1. Split the text to bigram and trigram. Add these grams to \"Chinese_review.csv\"\n",
    "\n",
    "2. Plot the frequency for some phrase relate to food\n",
    "\n",
    "Ref: https://github.com/minimaxir/yelp-review-analysis"
   ]
  },
  {
   "cell_type": "code",
   "execution_count": 1,
   "metadata": {},
   "outputs": [],
   "source": [
    "import pandas as pd\n",
    "import numpy as np\n",
    "import matplotlib.pyplot as plt\n",
    "from nltk import FreqDist"
   ]
  },
  {
   "cell_type": "code",
   "execution_count": 2,
   "metadata": {},
   "outputs": [],
   "source": [
    "import ast"
   ]
  },
  {
   "cell_type": "code",
   "execution_count": 3,
   "metadata": {},
   "outputs": [],
   "source": [
    "df_review = pd.read_csv(\"Chinese_review.csv\")\n",
    "reviews_token = df_review[\"text_token\"].tolist() \n",
    "reviews_token = [ast.literal_eval(review) for review in reviews_token]  ## conver the string to a list"
   ]
  },
  {
   "cell_type": "code",
   "execution_count": 4,
   "metadata": {},
   "outputs": [],
   "source": [
    "reviews_token_flatten = [word for sublist in reviews_token for word in sublist]"
   ]
  },
  {
   "cell_type": "code",
   "execution_count": 5,
   "metadata": {},
   "outputs": [],
   "source": [
    "from nltk import ngrams"
   ]
  },
  {
   "cell_type": "code",
   "execution_count": 6,
   "metadata": {},
   "outputs": [],
   "source": [
    "def find_ngrams(input_list, n):\n",
    "    return list(zip(*[input_list[i:] for i in range(n)]))"
   ]
  },
  {
   "cell_type": "code",
   "execution_count": 7,
   "metadata": {},
   "outputs": [],
   "source": [
    "import re"
   ]
  },
  {
   "cell_type": "code",
   "execution_count": 8,
   "metadata": {},
   "outputs": [],
   "source": [
    "from nltk.corpus import stopwords\n",
    "stop_words = set(stopwords.words('english'))\n",
    "for word in {\"not\",\"nor\",\"no\"}:\n",
    "    stop_words.remove(word)\n",
    "    \n",
    "new_stopwords = {\"'ve\", '...',\"'s\",\"''\",'``', \"'m\"}    \n",
    "\n",
    "for word in new_stopwords:\n",
    "    stop_words.add(word)"
   ]
  },
  {
   "cell_type": "code",
   "execution_count": 9,
   "metadata": {},
   "outputs": [],
   "source": [
    "pattern = re.compile(\"[^\\w']\")"
   ]
  },
  {
   "cell_type": "code",
   "execution_count": 10,
   "metadata": {},
   "outputs": [],
   "source": [
    "number = df_review.shape[0]\n",
    "review_token_bigram = [\" \"] * number\n",
    "\n",
    "for i in range(number):\n",
    "    text_token = pattern.sub(' ', str.lower(df_review[\"text\"][i])).split()\n",
    "    bigrams = find_ngrams(text_token, 2)\n",
    "    without_stopwords = list()\n",
    "    \n",
    "    for gram in bigrams:\n",
    "        if (gram[0] in stop_words) or (gram[1] in stop_words):\n",
    "            continue\n",
    "        else:\n",
    "            without_stopwords.append(gram)\n",
    "            \n",
    "    review_token_bigram[i] = without_stopwords\n",
    "    \n"
   ]
  },
  {
   "cell_type": "code",
   "execution_count": 11,
   "metadata": {},
   "outputs": [],
   "source": [
    "reviews_token_bigram_flatten = [word for sublist in review_token_bigram for word in sublist]"
   ]
  },
  {
   "cell_type": "code",
   "execution_count": 12,
   "metadata": {},
   "outputs": [],
   "source": [
    "Bi_freq = FreqDist(reviews_token_bigram_flatten)"
   ]
  },
  {
   "cell_type": "code",
   "execution_count": 13,
   "metadata": {},
   "outputs": [],
   "source": [
    "Bi_f = zip(Bi_freq.keys(),Bi_freq.values())  # dictionary to list\n",
    "Bi_sort_f = list(sorted(Bi_f,key=lambda s: s[1], reverse=True))  # sort by number of frequency"
   ]
  },
  {
   "cell_type": "code",
   "execution_count": 14,
   "metadata": {},
   "outputs": [
    {
     "data": {
      "text/plain": [
       "[(('dim', 'sum'), 32607),\n",
       " (('chinese', 'food'), 31839),\n",
       " (('fried', 'rice'), 29386),\n",
       " (('come', 'back'), 12485),\n",
       " (('pretty', 'good'), 12222)]"
      ]
     },
     "execution_count": 14,
     "metadata": {},
     "output_type": "execute_result"
    }
   ],
   "source": [
    "Bi_sort_f[0:5]"
   ]
  },
  {
   "cell_type": "code",
   "execution_count": 15,
   "metadata": {},
   "outputs": [],
   "source": [
    "df_review[\"bigram\"] = review_token_bigram"
   ]
  },
  {
   "cell_type": "code",
   "execution_count": 16,
   "metadata": {},
   "outputs": [
    {
     "data": {
      "text/plain": [
       "[(('dim', 'sum'), 32607),\n",
       " (('chinese', 'food'), 31839),\n",
       " (('fried', 'rice'), 29386),\n",
       " (('come', 'back'), 12485),\n",
       " (('pretty', 'good'), 12222),\n",
       " (('chinese', 'restaurant'), 11749),\n",
       " (('first', 'time'), 11576),\n",
       " (('really', 'good'), 11552),\n",
       " (('go', 'back'), 10402),\n",
       " (('orange', 'chicken'), 9348),\n",
       " (('noodle', 'soup'), 9117),\n",
       " (('customer', 'service'), 8276),\n",
       " (('next', 'time'), 7506),\n",
       " ((\"i'm\", 'not'), 7423),\n",
       " (('egg', 'rolls'), 7365),\n",
       " (('good', 'food'), 7157),\n",
       " (('chow', 'mein'), 6602),\n",
       " (('pad', 'thai'), 6442),\n",
       " (('sour', 'soup'), 6419),\n",
       " (('hot', 'pot'), 6316),\n",
       " (('great', 'food'), 6207),\n",
       " (('highly', 'recommend'), 6172),\n",
       " (('not', 'sure'), 6108),\n",
       " (('chinese', 'restaurants'), 6106),\n",
       " (('5', 'stars'), 5968),\n",
       " (('spring', 'rolls'), 5959),\n",
       " ((\"i've\", 'ever'), 5918),\n",
       " (('coming', 'back'), 5860),\n",
       " (('every', 'time'), 5851),\n",
       " (('lo', 'mein'), 5703),\n",
       " (('best', 'chinese'), 5513),\n",
       " (('las', 'vegas'), 5264),\n",
       " (('even', 'though'), 5223),\n",
       " (('deep', 'fried'), 5194),\n",
       " (('bbq', 'pork'), 5018),\n",
       " (('kung', 'pao'), 4999),\n",
       " (('mongolian', 'beef'), 4966),\n",
       " (('great', 'service'), 4924),\n",
       " (('egg', 'roll'), 4808),\n",
       " (('wonton', 'soup'), 4700),\n",
       " (('tasted', 'like'), 4667),\n",
       " (('soy', 'sauce'), 4637),\n",
       " (('hong', 'kong'), 4636),\n",
       " (('not', 'bad'), 4532),\n",
       " (('panda', 'express'), 4405),\n",
       " (('ice', 'cream'), 4400),\n",
       " (('great', 'place'), 4399),\n",
       " (('make', 'sure'), 4314),\n",
       " (('lunch', 'special'), 4267),\n",
       " (('beef', 'noodle'), 4243),\n",
       " (('pork', 'belly'), 4225),\n",
       " (('milk', 'tea'), 4163),\n",
       " (('much', 'better'), 4161),\n",
       " (('pan', 'fried'), 4136),\n",
       " (('authentic', 'chinese'), 4079),\n",
       " (('going', 'back'), 4069),\n",
       " (('would', 'not'), 4053),\n",
       " (('would', 'definitely'), 3987),\n",
       " (('3', '5'), 3926),\n",
       " (('lunch', 'specials'), 3895),\n",
       " (('good', 'chinese'), 3893),\n",
       " (('good', 'service'), 3859),\n",
       " (('feel', 'like'), 3854),\n",
       " (('asian', 'food'), 3799),\n",
       " (('would', 'recommend'), 3701),\n",
       " (('last', 'time'), 3652),\n",
       " (('fried', 'chicken'), 3614),\n",
       " (('egg', 'drop'), 3614),\n",
       " (('sour', 'chicken'), 3579),\n",
       " (('fast', 'food'), 3497),\n",
       " (('food', 'came'), 3495),\n",
       " (('white', 'rice'), 3487),\n",
       " (('also', 'ordered'), 3435),\n",
       " (('long', 'time'), 3433),\n",
       " (('sesame', 'chicken'), 3425),\n",
       " (('no', 'one'), 3423),\n",
       " (('pretty', 'much'), 3377),\n",
       " (('10', 'minutes'), 3359),\n",
       " ((\"i've\", 'never'), 3348),\n",
       " (('not', 'even'), 3284),\n",
       " (('chicken', 'wings'), 3278),\n",
       " (('peking', 'duck'), 3268),\n",
       " (('not', 'worth'), 3214),\n",
       " (('bubble', 'tea'), 3187),\n",
       " (('drop', 'soup'), 3140),\n",
       " (('nothing', 'special'), 3101),\n",
       " (('not', 'good'), 3034),\n",
       " (('pao', 'chicken'), 3034),\n",
       " (('last', 'night'), 3031),\n",
       " (('4', '5'), 3005),\n",
       " (('general', \"tso's\"), 3001),\n",
       " (('little', 'bit'), 2996),\n",
       " (('4', 'stars'), 2918),\n",
       " (('chicken', 'fried'), 2916),\n",
       " (('15', 'minutes'), 2854),\n",
       " (('gave', 'us'), 2822),\n",
       " (('rice', 'noodles'), 2798),\n",
       " (('rice', 'noodle'), 2775),\n",
       " (('stir', 'fry'), 2751),\n",
       " (('food', 'quality'), 2735)]"
      ]
     },
     "execution_count": 16,
     "metadata": {},
     "output_type": "execute_result"
    }
   ],
   "source": [
    "FreqDist(reviews_token_bigram_flatten).most_common(100)"
   ]
  },
  {
   "cell_type": "code",
   "execution_count": 17,
   "metadata": {},
   "outputs": [],
   "source": [
    "review_token_trigram = [\" \"] * number\n",
    "\n",
    "for i in range(number):\n",
    "    text_token = pattern.sub(' ', str.lower(df_review[\"text\"][i])).split()\n",
    "    trigrams = find_ngrams(text_token, 3)\n",
    "    without_stopwords = list()\n",
    "    \n",
    "    for gram in trigrams:\n",
    "        if (gram[0] in stop_words) or (gram[1] in stop_words):\n",
    "            continue\n",
    "        else:\n",
    "            without_stopwords.append(gram)\n",
    "            \n",
    "    review_token_trigram[i] = without_stopwords\n",
    "    \n"
   ]
  },
  {
   "cell_type": "code",
   "execution_count": 18,
   "metadata": {},
   "outputs": [],
   "source": [
    "reviews_token_trigram_flatten = [word for sublist in review_token_trigram for word in sublist]"
   ]
  },
  {
   "cell_type": "code",
   "execution_count": 19,
   "metadata": {},
   "outputs": [],
   "source": [
    "df_review[\"trigram\"] = review_token_trigram"
   ]
  },
  {
   "cell_type": "code",
   "execution_count": 20,
   "metadata": {},
   "outputs": [],
   "source": [
    "## Bigram Word frequency for each star, Trigram ord frequency for each star\n",
    "\n",
    "Bi_freq_star = list()\n",
    "Tri_freq_star = list()\n",
    "\n",
    "for rating in [1.0,2.0,3.0,4.0,5.0]:\n",
    "    df_review_rating = df_review.loc[df_review['stars'] == rating]\n",
    "    \n",
    "    ## Bigram\n",
    "    Bi_review_rating = df_review_rating[\"bigram\"].values.tolist() ## each element is a string \n",
    "    ##Bi_review_rating = [ast.literal_eval(review) for review in Bi_review_rating]  ## conver the string to a list\n",
    "   \n",
    "    Bi_reviews_rating_flatten = [word for sublist in Bi_review_rating for word in sublist]\n",
    "    Bi_freq_rating = FreqDist(Bi_reviews_rating_flatten)\n",
    "\n",
    "    Bi_freq_star.append(Bi_freq_rating)\n",
    "    \n",
    "    ## Trigram\n",
    "    Tri_review_rating = df_review_rating[\"trigram\"].values.tolist() ## each element is a string \n",
    "    ##Tri_review_rating = [ast.literal_eval(review) for review in Tri_review_rating]  ## conver the string to a list\n",
    "   \n",
    "    Tri_reviews_rating_flatten = [word for sublist in Tri_review_rating for word in sublist]\n",
    "    Tri_freq_rating = FreqDist(Tri_reviews_rating_flatten)\n",
    "\n",
    "    Tri_freq_star.append(Tri_freq_rating)"
   ]
  },
  {
   "cell_type": "code",
   "execution_count": 21,
   "metadata": {},
   "outputs": [],
   "source": [
    "Tri_freq = FreqDist(reviews_token_trigram_flatten)"
   ]
  },
  {
   "cell_type": "code",
   "execution_count": 22,
   "metadata": {},
   "outputs": [],
   "source": [
    "Tri_f = zip(Tri_freq.keys(),Tri_freq.values())  # dictionary to list\n",
    "Tri_sort_f = list(sorted(Tri_f,key=lambda s: s[1], reverse=True))  # sort by number of frequency"
   ]
  },
  {
   "cell_type": "code",
   "execution_count": 23,
   "metadata": {},
   "outputs": [
    {
     "data": {
      "text/plain": [
       "[(('fried', 'rice', 'and'), 4902),\n",
       " ((\"i've\", 'ever', 'had'), 3874),\n",
       " (('fried', 'rice', 'was'), 3243),\n",
       " (('egg', 'drop', 'soup'), 3123),\n",
       " (('chinese', 'food', 'in'), 2997)]"
      ]
     },
     "execution_count": 23,
     "metadata": {},
     "output_type": "execute_result"
    }
   ],
   "source": [
    "Tri_sort_f[0:5]"
   ]
  },
  {
   "cell_type": "code",
   "execution_count": 24,
   "metadata": {},
   "outputs": [
    {
     "data": {
      "text/plain": [
       "[(('fried', 'rice', 'and'), 4902),\n",
       " ((\"i've\", 'ever', 'had'), 3874),\n",
       " (('fried', 'rice', 'was'), 3243),\n",
       " (('egg', 'drop', 'soup'), 3123),\n",
       " (('chinese', 'food', 'in'), 2997),\n",
       " (('beef', 'noodle', 'soup'), 2942),\n",
       " (('kung', 'pao', 'chicken'), 2916),\n",
       " (('best', 'chinese', 'food'), 2804),\n",
       " (('chicken', 'fried', 'rice'), 2686),\n",
       " (('every', 'time', 'i'), 2211),\n",
       " ((\"i'm\", 'not', 'sure'), 2177),\n",
       " ((\"can't\", 'wait', 'to'), 2108),\n",
       " (('not', 'sure', 'if'), 2090),\n",
       " (('chinese', 'food', 'i'), 2073),\n",
       " (('good', 'chinese', 'food'), 2069),\n",
       " (('authentic', 'chinese', 'food'), 2044),\n",
       " (('definitely', 'come', 'back'), 2006),\n",
       " (('food', 'came', 'out'), 1981),\n",
       " (('dim', 'sum', 'and'), 1973),\n",
       " (('chinese', 'restaurant', 'in'), 1966),\n",
       " (('chinese', 'food', 'and'), 1880),\n",
       " (('pork', 'fried', 'rice'), 1858),\n",
       " (('great', 'place', 'to'), 1832),\n",
       " (('general', \"tso's\", 'chicken'), 1803),\n",
       " (('orange', 'chicken', 'and'), 1756),\n",
       " (('first', 'time', 'i'), 1725),\n",
       " (('hong', 'kong', 'style'), 1673),\n",
       " (('come', 'back', 'to'), 1673),\n",
       " (('next', 'time', 'i'), 1649),\n",
       " (('fried', 'rice', 'is'), 1626),\n",
       " (('black', 'bean', 'sauce'), 1585),\n",
       " (('dim', 'sum', 'is'), 1585),\n",
       " (('shrimp', 'fried', 'rice'), 1571),\n",
       " (('highly', 'recommend', 'this'), 1568),\n",
       " (('come', 'back', 'again'), 1556),\n",
       " (('go', 'back', 'to'), 1528),\n",
       " (('make', 'sure', 'you'), 1512),\n",
       " (('last', 'time', 'i'), 1492),\n",
       " (('xiao', 'long', 'bao'), 1467),\n",
       " (('looking', 'forward', 'to'), 1460),\n",
       " (('right', 'amount', 'of'), 1451),\n",
       " (('dim', 'sum', 'place'), 1439),\n",
       " (('chinese', 'take', 'out'), 1438),\n",
       " ((\"i'm\", 'not', 'a'), 1415),\n",
       " ((\"can't\", 'go', 'wrong'), 1378),\n",
       " (('dim', 'sum', 'in'), 1373),\n",
       " (('would', 'come', 'back'), 1373),\n",
       " (('great', 'food', 'and'), 1356),\n",
       " (('chinese', 'restaurants', 'in'), 1356),\n",
       " (('also', 'ordered', 'the'), 1356),\n",
       " (('come', 'back', 'here'), 1351),\n",
       " (('not', 'worth', 'the'), 1341),\n",
       " (('dim', 'sum', 'places'), 1303),\n",
       " (('good', 'place', 'to'), 1301),\n",
       " (('great', 'place', 'for'), 1282),\n",
       " ((\"i've\", 'never', 'had'), 1277),\n",
       " (('noodle', 'soup', 'and'), 1270),\n",
       " (('first', 'time', 'here'), 1261),\n",
       " (('hand', 'pulled', 'noodles'), 1257),\n",
       " (('really', 'good', 'and'), 1256),\n",
       " (('go', 'wrong', 'with'), 1210),\n",
       " (('would', 'like', 'to'), 1200),\n",
       " (('egg', 'foo', 'young'), 1195),\n",
       " (('big', 'fan', 'of'), 1195),\n",
       " (('best', \"i've\", 'had'), 1179),\n",
       " (('good', 'food', 'and'), 1167),\n",
       " (('come', 'back', 'for'), 1155),\n",
       " (('fried', 'rice', 'the'), 1154),\n",
       " (('hot', 'sour', 'soup'), 1138),\n",
       " (('chinese', 'food', 'but'), 1134),\n",
       " (('definitely', 'go', 'back'), 1115),\n",
       " (('customer', 'service', 'is'), 1098),\n",
       " (('3', '5', 'stars'), 1090),\n",
       " (('not', 'sure', 'what'), 1076),\n",
       " (('would', 'not', 'recommend'), 1064),\n",
       " (('would', 'definitely', 'recommend'), 1062),\n",
       " (('chinese', 'food', \"i've\"), 1055),\n",
       " (('pretty', 'good', 'and'), 1045),\n",
       " (('dan', 'dan', 'noodles'), 1043),\n",
       " (('pretty', 'good', 'but'), 1035),\n",
       " (('much', 'better', 'than'), 1035),\n",
       " (('good', 'amount', 'of'), 1030),\n",
       " (('fried', 'rice', 'with'), 1029),\n",
       " (('egg', 'rolls', 'were'), 1022),\n",
       " (('go', 'back', 'and'), 1019),\n",
       " (('egg', 'rolls', 'and'), 1015),\n",
       " (('lo', 'mein', 'and'), 1012),\n",
       " (('great', 'service', 'and'), 1011),\n",
       " (('best', \"i've\", 'ever'), 1010),\n",
       " (('orange', 'chicken', 'was'), 1007),\n",
       " (('beef', 'chow', 'fun'), 1006),\n",
       " (('chow', 'mein', 'and'), 1003),\n",
       " (('would', 'definitely', 'come'), 988),\n",
       " (('chinese', 'food', 'the'), 983),\n",
       " (('really', 'enjoyed', 'the'), 976),\n",
       " (('pad', 'thai', 'and'), 975),\n",
       " (('would', 'go', 'back'), 971),\n",
       " (('make', 'sure', 'to'), 970),\n",
       " (('never', 'go', 'back'), 963),\n",
       " (('always', 'get', 'the'), 950)]"
      ]
     },
     "execution_count": 24,
     "metadata": {},
     "output_type": "execute_result"
    }
   ],
   "source": [
    "FreqDist(reviews_token_trigram_flatten).most_common(100)"
   ]
  },
  {
   "cell_type": "code",
   "execution_count": 25,
   "metadata": {},
   "outputs": [],
   "source": [
    "bigram_length = [len(i) for i in review_token_bigram]"
   ]
  },
  {
   "cell_type": "code",
   "execution_count": 26,
   "metadata": {},
   "outputs": [],
   "source": [
    "trigram_length = [len(i) for i in review_token_trigram]"
   ]
  },
  {
   "cell_type": "code",
   "execution_count": 27,
   "metadata": {},
   "outputs": [],
   "source": [
    "df_review[\"bigram_length\"] = bigram_length\n",
    "df_review[\"trigram_length\"] = trigram_length"
   ]
  },
  {
   "cell_type": "code",
   "execution_count": 28,
   "metadata": {},
   "outputs": [],
   "source": [
    "df_review.to_csv(\"Chinese_review.csv\")"
   ]
  },
  {
   "cell_type": "code",
   "execution_count": 29,
   "metadata": {},
   "outputs": [],
   "source": [
    "## The number of bigram for each star\n",
    "star_bigram_number = list()\n",
    "for rating in [1.0,2.0,3.0,4.0,5.0]:\n",
    "    df_review_rating = df_review.loc[df_review['stars'] == rating]       \n",
    "    star_bigram_number.append(df_review_rating[\"bigram_length\"].sum())"
   ]
  },
  {
   "cell_type": "code",
   "execution_count": 30,
   "metadata": {},
   "outputs": [],
   "source": [
    "## The number of trigram for each star\n",
    "star_trigram_number = list()\n",
    "for rating in [1.0,2.0,3.0,4.0,5.0]:\n",
    "    df_review_rating = df_review.loc[df_review['stars'] == rating]       \n",
    "    star_trigram_number.append(df_review_rating[\"trigram_length\"].sum())"
   ]
  },
  {
   "cell_type": "code",
   "execution_count": 31,
   "metadata": {},
   "outputs": [],
   "source": [
    "def plot_hist_bigram(word, save = True):\n",
    "    freq = list()\n",
    "    for i in range(5):\n",
    "        scale_freq = dict(Bi_freq_star[i])[word] / star_bigram_number[i]\n",
    "        freq.append(scale_freq)\n",
    "    plt.bar(range(5),freq, tick_label = [\"1.0\", \"2.0\", \"3.0\", \"4.0\", \"5.0\"])\n",
    "    plt.xlabel(\"Stars\")\n",
    "    plt.ylabel(\"Freq\")\n",
    "    plt.title(word)\n",
    "    if save:\n",
    "        plt.savefig(str(word) + \".png\", dpi=500)\n",
    "    plt.show()"
   ]
  },
  {
   "cell_type": "code",
   "execution_count": 32,
   "metadata": {},
   "outputs": [
    {
     "data": {
      "text/plain": [
       "2574"
      ]
     },
     "execution_count": 32,
     "metadata": {},
     "output_type": "execute_result"
    }
   ],
   "source": [
    "dict(Bi_freq_star[0])[('dim', 'sum')]"
   ]
  },
  {
   "cell_type": "code",
   "execution_count": 33,
   "metadata": {},
   "outputs": [
    {
     "data": {
      "image/png": "[encoded data removed]",
      "text/plain": [
       "<Figure size 432x288 with 1 Axes>"
      ]
     },
     "metadata": {
      "needs_background": "light"
     },
     "output_type": "display_data"
    }
   ],
   "source": [
    "plot_hist_bigram(('dim', 'sum'))"
   ]
  },
  {
   "cell_type": "code",
   "execution_count": 34,
   "metadata": {},
   "outputs": [],
   "source": [
    "def plot_Bi_hist_wordList(wordList, nRow, nCol, FileName, titlesize = 8, dpi = 500, save = True):\n",
    "    count = 0\n",
    "    for word in wordList:\n",
    "        count += 1\n",
    "        freq = list()\n",
    "        for i in range(5):\n",
    "            scale_freq = dict(Bi_freq_star[i])[word] / star_bigram_number[i]\n",
    "            freq.append(scale_freq)\n",
    "       ## plt.subplot(str(nRow) + str(nCol)+str(count))\n",
    "        plt.subplot(nRow, nCol , count)\n",
    "        plt.bar(range(5),freq, tick_label = [\"1\", \"2\", \"3\", \"4\", \"5\"])\n",
    "        plt.tick_params(labelsize=6)\n",
    "#         plt.xlabel(\"Stars\")\n",
    "#         plt.ylabel(\"Freq\")\n",
    "        plt.title(word, fontsize=titlesize)\n",
    "    \n",
    "    \n",
    "    \n",
    "    plt.subplots_adjust(wspace = 1, hspace = 1)\n",
    "    \n",
    "    if save:\n",
    "        plt.savefig(FileName, dpi=dpi)\n",
    "        \n",
    "    plt.close()"
   ]
  },
  {
   "cell_type": "code",
   "execution_count": 35,
   "metadata": {},
   "outputs": [],
   "source": [
    "def plot_Tri_hist_wordList(wordList, nRow, nCol, FileName, titlesize = 7, dpi = 500, save = True):\n",
    "    count = 0\n",
    "    for word in wordList:\n",
    "        count += 1\n",
    "        freq = list()\n",
    "        for i in range(5):\n",
    "            scale_freq = dict(Tri_freq_star[i])[word] / star_trigram_number[i]\n",
    "            freq.append(scale_freq)\n",
    "       ## plt.subplot(str(nRow) + str(nCol)+str(count))\n",
    "        plt.subplot(nRow, nCol , count)\n",
    "        plt.bar(range(5),freq, tick_label = [\"1\", \"2\", \"3\", \"4\", \"5\"])\n",
    "#         plt.xlabel(\"Stars\")\n",
    "#         plt.ylabel(\"Freq\")\n",
    "        plt.tick_params(labelsize=6)\n",
    "        plt.title(word, fontsize=titlesize)\n",
    "        \n",
    "    plt.subplots_adjust(wspace = 1, hspace = 1)\n",
    "    \n",
    "    if save:\n",
    "        plt.savefig(FileName, dpi=dpi)\n",
    "        \n",
    "    plt.close()"
   ]
  },
  {
   "cell_type": "code",
   "execution_count": 36,
   "metadata": {},
   "outputs": [],
   "source": [
    "Bi_top_100 = [\"\"] * 100\n",
    "for i in range(100):  \n",
    "    Bi_top_100[i] = Bi_sort_f[i][0]\n",
    "    \n",
    "\n",
    "Tri_top_100 = [\"\"] * 100\n",
    "for i in range(100):  \n",
    "    Tri_top_100[i] = Tri_sort_f[i][0]"
   ]
  },
  {
   "cell_type": "code",
   "execution_count": 37,
   "metadata": {},
   "outputs": [],
   "source": [
    "plot_Bi_hist_wordList(Bi_top_100[0:10],2,5,\"figure/Bi_Top10.png\",dpi=1000)\n",
    "plot_Bi_hist_wordList(Bi_top_100[10:20],2,5,\"figure/Bi_Top20.png\",dpi=1000)\n",
    "plot_Bi_hist_wordList(Bi_top_100[20:30],2,5,\"figure/Bi_Top30.png\",dpi=1000)\n",
    "plot_Bi_hist_wordList(Bi_top_100[30:40],2,5,\"figure/Bi_Top40.png\",dpi=1000)\n",
    "plot_Bi_hist_wordList(Bi_top_100[40:50],2,5,\"figure/Bi_Top50.png\",dpi=1000)\n",
    "plot_Bi_hist_wordList(Bi_top_100[50:60],2,5,\"figure/Bi_Top60.png\",dpi=1000)\n",
    "plot_Bi_hist_wordList(Bi_top_100[60:70],2,5,\"figure/Bi_Top70.png\",dpi=1000)\n",
    "plot_Bi_hist_wordList(Bi_top_100[70:80],2,5,\"figure/Bi_Top80.png\",dpi=1000)\n",
    "plot_Bi_hist_wordList(Bi_top_100[80:90],2,5,\"figure/Bi_Top90.png\",dpi=1000)\n",
    "plot_Bi_hist_wordList(Bi_top_100[90:100],2,5,\"figure/Bi_Top100.png\",dpi=1000)"
   ]
  },
  {
   "cell_type": "code",
   "execution_count": 38,
   "metadata": {},
   "outputs": [],
   "source": [
    "plot_Bi_hist_wordList(Bi_top_100[0:10],2,5,\"figure/Bi_Top10.png\",dpi=1000)"
   ]
  },
  {
   "cell_type": "code",
   "execution_count": 39,
   "metadata": {},
   "outputs": [],
   "source": [
    "plot_Tri_hist_wordList(Tri_top_100[0:10],2,5,\"figure/Tri_Top10.png\",dpi=1000)\n",
    "plot_Tri_hist_wordList(Tri_top_100[10:20],2,5,\"figure/Tri_Top20.png\",dpi=1000)\n",
    "plot_Tri_hist_wordList(Tri_top_100[20:30],2,5,\"figure/Tri_Top30.png\",dpi=1000)\n",
    "plot_Tri_hist_wordList(Tri_top_100[30:40],2,5,\"figure/Tri_Top40.png\",dpi=1000)\n",
    "plot_Tri_hist_wordList(Tri_top_100[40:50],2,5,\"figure/Tri_Top50.png\",dpi=1000)\n",
    "plot_Tri_hist_wordList(Tri_top_100[50:60],2,5,\"figure/Tri_Top60.png\",dpi=1000)\n",
    "plot_Tri_hist_wordList(Tri_top_100[60:70],2,5,\"figure/Tri_Top70.png\",dpi=1000)\n",
    "plot_Tri_hist_wordList(Tri_top_100[70:80],2,5,\"figure/Tri_Top80.png\",dpi=1000)\n",
    "plot_Tri_hist_wordList(Tri_top_100[80:90],2,5,\"figure/Tri_Top90.png\",dpi=1000)\n",
    "plot_Tri_hist_wordList(Tri_top_100[90:100],2,5,\"figure/Tri_Top100.png\",dpi=1000)"
   ]
  },
  {
   "cell_type": "code",
   "execution_count": 40,
   "metadata": {},
   "outputs": [],
   "source": [
    "Bi_Sig_Wordlist = [('orange', 'chicken'),('noodle', 'soup'), ('sour', 'soup'), \n",
    "                   ('hot','pot'), ('kung','pao'), ('mongolian', 'beef'),('soy', 'sauce') ,('beef', 'noodle'),('pork', 'belly')]"
   ]
  },
  {
   "cell_type": "code",
   "execution_count": 41,
   "metadata": {},
   "outputs": [],
   "source": [
    "Tri_Sig_Wordlist = [('egg','drop','soup'),('beef','noodle','soup'),('kung', 'pao', 'chicken'), ('chicken','fried','rice'),('hand','pulled','noodles'),('egg','foo','young'),\n",
    "                    ('hot','sour','soup'),('dan','dan','noodles'), ('beef','chow','fun')]"
   ]
  },
  {
   "cell_type": "code",
   "execution_count": 42,
   "metadata": {},
   "outputs": [],
   "source": [
    "plot_Bi_hist_wordList(Bi_Sig_Wordlist,3,3,\"figure/Bi_Significant.png\",dpi=1000)"
   ]
  },
  {
   "cell_type": "code",
   "execution_count": 43,
   "metadata": {},
   "outputs": [],
   "source": [
    "plot_Tri_hist_wordList(Tri_Sig_Wordlist,3,3,\"figure/Tri_Significant.png\",dpi=1000)"
   ]
  }
 ],
 "metadata": {
  "kernelspec": {
   "display_name": "Python 3",
   "language": "python",
   "name": "python3"
  },
  "language_info": {
   "codemirror_mode": {
    "name": "ipython",
    "version": 3
   },
   "file_extension": ".py",
   "mimetype": "text/x-python",
   "name": "python",
   "nbconvert_exporter": "python",
   "pygments_lexer": "ipython3",
   "version": "3.5.6"
  }
 },
 "nbformat": 4,
 "nbformat_minor": 2
}
